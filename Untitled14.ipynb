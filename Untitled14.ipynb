{
  "nbformat": 4,
  "nbformat_minor": 0,
  "metadata": {
    "colab": {
      "provenance": []
    },
    "kernelspec": {
      "name": "python3",
      "display_name": "Python 3"
    },
    "language_info": {
      "name": "python"
    }
  },
  "cells": [
    {
      "cell_type": "code",
      "execution_count": 77,
      "metadata": {
        "colab": {
          "base_uri": "https://localhost:8080/"
        },
        "id": "Eem9P5tlU_y2",
        "outputId": "ff47fa69-3e84-4e8d-ad3c-a1661ed2a38f"
      },
      "outputs": [
        {
          "output_type": "stream",
          "name": "stdout",
          "text": [
            "Writing aye.py\n"
          ]
        }
      ],
      "source": [
        "%%writefile aye.py\n",
        "\n",
        "import matplotlib.pyplot as plt\n",
        "import numpy as np\n",
        "from sklearn.linear_model import LinearRegression\n",
        "\n",
        "x = np.linspace(0,10,100)\n",
        "y = x + np.random.random(100) * 2 - 1\n",
        "plt.scatter(x,y)\n",
        "plt.show()\n",
        "\n",
        "\n",
        "x = np.array(x).reshape((-1, 1))\n",
        "y = np.array(y)\n",
        "\n",
        "\n",
        "model = LinearRegression()\n",
        "\n",
        "model.fit(x,y)\n",
        "\n",
        "r_sq = model.score(x, y)\n",
        "print('coefficient of determination:', r_sq)\n",
        "\n",
        "\n",
        "\n",
        "y_pred = model.predict(x)\n",
        "print('predicted response:', y_pred, sep='\\n')\n",
        "\n",
        "\n",
        "from sklearn.metrics import mean_squared_error\n",
        "from sklearn.metrics import mean_absolute_error\n",
        "\n",
        "\n",
        "mse = mean_squared_error(y, y_pred)\n",
        "mae = mean_absolute_error(y, y_pred)\n",
        "print('mse: %.3f, mae: %.3f' % (mse, mae))\n",
        "\n",
        "\n",
        "\n",
        "\n",
        "\n",
        "x_new = np.linspace(0,10,100)\n",
        "y_new = x_new + np.random.random(100) * 2 - 1\n",
        "y_new[13:45] *= 3\n",
        "\n",
        "plt.scatter(x_new,y_new)\n",
        "plt.show()\n",
        "\n",
        "\n",
        "\n",
        "x_new = np.array(x_new).reshape((-1, 1))\n",
        "y_new = np.array(y_new)\n",
        "\n",
        "model.fit(x_new,y_new)\n",
        "\n",
        "\n",
        "r_sq_new = model.score(x_new, y_new)\n",
        "print('coefficient of determination:', r_sq)\n",
        "\n",
        "\n",
        "\n",
        "y_pred_new = model.predict(x_new)\n",
        "print('predicted response:', y_pred_new, sep='\\n')\n",
        "\n",
        "\n",
        "\n",
        "\n",
        "mse_n = mean_squared_error(y_new, y_pred_new)\n",
        "mae_n = mean_absolute_error(y_new, y_pred_new)\n",
        "print('mse: %.3f, mae: %.3f' % (mse_n, mae_n))"
      ]
    },
    {
      "cell_type": "code",
      "source": [
        "%%writefile test.py\n",
        "\n",
        "import pytest\n",
        "import numpy\n",
        "\n",
        "from aye import mae, mae_n, mse, mse_n\n",
        "\n",
        "def test_check_type():\n",
        "  assert type(mae) == numpy.float64\n",
        "\n",
        "\n",
        "def test_check_mae():\n",
        "    assert mae < 1\n",
        "\n",
        "def test_check_mse():\n",
        "    assert mse < 1\n",
        "\n",
        "def test_check_mse_n():\n",
        "    assert mse_n > 1\n",
        "\n",
        "def test_check_mae_n():\n",
        "    assert mae_n > 1\n",
        "  \n",
        "\n",
        "\n"
      ],
      "metadata": {
        "colab": {
          "base_uri": "https://localhost:8080/"
        },
        "id": "iaSwM-9IVt4q",
        "outputId": "79e5a230-f473-4271-864f-f0c92f9226ee"
      },
      "execution_count": 103,
      "outputs": [
        {
          "output_type": "stream",
          "name": "stdout",
          "text": [
            "Overwriting test.py\n"
          ]
        }
      ]
    },
    {
      "cell_type": "code",
      "source": [
        "!python aye.py"
      ],
      "metadata": {
        "id": "inRbLtNtWD2x"
      },
      "execution_count": null,
      "outputs": []
    },
    {
      "cell_type": "code",
      "source": [
        "!pytest test.py"
      ],
      "metadata": {
        "colab": {
          "base_uri": "https://localhost:8080/"
        },
        "id": "DOplA0mlV7wJ",
        "outputId": "182b5c9e-592c-4c1c-9175-d56240088f90"
      },
      "execution_count": 104,
      "outputs": [
        {
          "output_type": "stream",
          "name": "stdout",
          "text": [
            "\u001b[1m============================= test session starts ==============================\u001b[0m\n",
            "platform linux -- Python 3.10.11, pytest-7.2.2, pluggy-1.0.0\n",
            "rootdir: /content\n",
            "plugins: anyio-3.6.2\n",
            "collected 5 items                                                              \u001b[0m\n",
            "\n",
            "test.py \u001b[32m.\u001b[0m\u001b[32m.\u001b[0m\u001b[32m.\u001b[0m\u001b[32m.\u001b[0m\u001b[32m.\u001b[0m\u001b[32m                                                            [100%]\u001b[0m\n",
            "\n",
            "\u001b[32m============================== \u001b[32m\u001b[1m5 passed\u001b[0m\u001b[32m in 1.60s\u001b[0m\u001b[32m ===============================\u001b[0m\n"
          ]
        }
      ]
    }
  ]
}